{
 "cells": [
  {
   "cell_type": "markdown",
   "id": "7361ed74",
   "metadata": {},
   "source": [
    "### One vs One, One vs Rest with SVM for multi-class classification"
   ]
  },
  {
   "cell_type": "markdown",
   "id": "daec3197",
   "metadata": {},
   "source": [
    "In multiclass classification problems, we need to deal with more than two classes which means the algorithm which we are using should be capable of working with multiple classes. There are various models available for this and some methods are also available that can make support vector machines capable of dealing with more than two classes.  We call these methods heuristic methods. There are two types of heuristic methods:\n",
    "\n",
    "1. One-vs-Rest (OvR) or One-vs-All(OvA)\n",
    "2. One-vs-One (OvO) "
   ]
  },
  {
   "cell_type": "code",
   "execution_count": 11,
   "id": "951db139",
   "metadata": {},
   "outputs": [],
   "source": [
    "import pandas as pd\n",
    "import numpy as np                            \n",
    "import matplotlib.pyplot as plt\n",
    "from matplotlib.colors import ListedColormap\n",
    "import matplotlib.pyplot as plt\n",
    "from sklearn import datasets\n",
    "from sklearn.svm import SVC\n",
    "from sklearn.model_selection import train_test_split\n",
    "from sklearn.preprocessing import StandardScaler"
   ]
  },
  {
   "cell_type": "code",
   "execution_count": 39,
   "id": "95cd5912",
   "metadata": {},
   "outputs": [
    {
     "name": "stdout",
     "output_type": "stream",
     "text": [
      "   sepal length (cm)  sepal width (cm)\n",
      "0                5.1               3.5\n",
      "1                4.9               3.0\n",
      "2                4.7               3.2\n",
      "3                4.6               3.1\n",
      "4                5.0               3.6\n",
      "\n",
      "Unique Labels contained in this data are [0 1 2]\n"
     ]
    }
   ],
   "source": [
    "iris_data = datasets.load_iris()\n",
    "\n",
    "X = iris_data.data[:, [0, 1]]\n",
    "y = iris_data.target\n",
    "\n",
    "iris_dataframe = pd.DataFrame(iris_data.data[:, [0, 1]],\n",
    "                  columns=iris_data.feature_names[0:2])\n",
    "\n",
    "print(iris_dataframe.head())\n",
    "\n",
    "print('\\n' + 'Unique Labels contained in this data are '\n",
    "     + str(np.unique(y)))"
   ]
  },
  {
   "cell_type": "code",
   "execution_count": 40,
   "id": "86287637",
   "metadata": {},
   "outputs": [
    {
     "data": {
      "text/plain": [
       "array(['setosa', 'versicolor', 'virginica'], dtype='<U10')"
      ]
     },
     "execution_count": 40,
     "metadata": {},
     "output_type": "execute_result"
    }
   ],
   "source": [
    "iris_data.target_names"
   ]
  },
  {
   "cell_type": "code",
   "execution_count": 41,
   "id": "84f8cd04",
   "metadata": {},
   "outputs": [
    {
     "name": "stdout",
     "output_type": "stream",
     "text": [
      "The training set contains 105 samples and the test set contains 45 samples\n"
     ]
    }
   ],
   "source": [
    "X_train, X_test, y_train, y_test = train_test_split(X, y, test_size=0.3, random_state=0)\n",
    "print('The training set contains {} samples and the test set contains {} samples'.format(X_train.shape[0], X_test.shape[0]))"
   ]
  },
  {
   "cell_type": "code",
   "execution_count": 42,
   "id": "577967a5",
   "metadata": {},
   "outputs": [
    {
     "name": "stderr",
     "output_type": "stream",
     "text": [
      "C:\\Users\\LENOVO\\anaconda3\\lib\\site-packages\\seaborn\\_decorators.py:36: FutureWarning: Pass the following variables as keyword args: x, y. From version 0.12, the only valid positional argument will be `data`, and passing other arguments without an explicit keyword will result in an error or misinterpretation.\n",
      "  warnings.warn(\n"
     ]
    },
    {
     "data": {
      "text/plain": [
       "<AxesSubplot:>"
      ]
     },
     "execution_count": 42,
     "metadata": {},
     "output_type": "execute_result"
    },
    {
     "data": {
      "image/png": "[encoded data removed]",
      "text/plain": [
       "<Figure size 432x288 with 1 Axes>"
      ]
     },
     "metadata": {
      "needs_background": "light"
     },
     "output_type": "display_data"
    }
   ],
   "source": [
    "import seaborn as sns\n",
    "sns.scatterplot(X_train[:, 0], X_train[:, 1], hue=y_train)"
   ]
  },
  {
   "cell_type": "code",
   "execution_count": 43,
   "id": "91636b5e",
   "metadata": {},
   "outputs": [
    {
     "name": "stdout",
     "output_type": "stream",
     "text": [
      "The first five rows after standardisation look like this:\n",
      "\n",
      "   sepal length (cm)  sepal width (cm)\n",
      "0          -1.023664         -2.378463\n",
      "1           0.695175         -0.101903\n",
      "2           0.924353          0.581065\n",
      "3           0.122229         -1.923151\n",
      "4           0.924353         -1.240183\n"
     ]
    }
   ],
   "source": [
    "standard_scaler = StandardScaler()\n",
    "#DataFlair\n",
    "standard_scaler.fit(X_train)\n",
    "X_train_standard = standard_scaler.transform(X_train)\n",
    "X_test_standard = standard_scaler.transform(X_test)\n",
    "print('The first five rows after standardisation look like this:\\n')\n",
    "print(pd.DataFrame(X_train_standard, columns=iris_dataframe.columns).head())"
   ]
  },
  {
   "cell_type": "code",
   "execution_count": 44,
   "id": "12f138c2",
   "metadata": {},
   "outputs": [
    {
     "name": "stdout",
     "output_type": "stream",
     "text": [
      "Accuracy of our SVM model on the training data is 0.81 out of 1\n",
      "Accuracy of our SVM model on the test data is 0.80 out of 1\n"
     ]
    }
   ],
   "source": [
    "SVM = SVC(kernel='rbf', random_state=0, gamma=.10, C=1.0)\n",
    "SVM.fit(X_train_standard, y_train)\n",
    "print('Accuracy of our SVM model on the training data is {:.2f} out of 1'.format(SVM.score(X_train_standard, y_train)))\n",
    "print('Accuracy of our SVM model on the test data is {:.2f} out of 1'.format(SVM.score(X_test_standard, y_test)))"
   ]
  },
  {
   "cell_type": "markdown",
   "id": "b33e7966",
   "metadata": {},
   "source": [
    "### One Vs. Rest Plot"
   ]
  },
  {
   "cell_type": "markdown",
   "id": "fd92fa5d",
   "metadata": {},
   "source": [
    "The procedure of conversion of the data can be understood using an example of iris data where we have three classes as follows:\n",
    "\n",
    "1. Setosa\n",
    "2. Versicolor \n",
    "3. Virginica\n",
    "\n",
    "The converted data as binary classification data will look like the following:\n",
    "\n",
    "1. Setosa vs [Versicolor, Virginica]\n",
    "2. Versicolor vs [Setosa, Virginica]\n",
    "3. Virginica vs [Setosa, Versicolor]\n",
    "\n",
    "By looking at the conversion we can think that there is a requirement of three models but with the large datasets creating three models can be a tough and non-accurate approach to modeling. Here One-vs-Rest (OvR) or One-vs-All(OvA) comes to save us where binary classifiers can be trained to predict any class as positive and other classes as negative. "
   ]
  },
  {
   "cell_type": "code",
   "execution_count": 45,
   "id": "cb97361b",
   "metadata": {},
   "outputs": [
    {
     "data": {
      "image/png": "[encoded data removed]",
      "text/plain": [
       "<Figure size 432x288 with 1 Axes>"
      ]
     },
     "metadata": {
      "needs_background": "light"
     },
     "output_type": "display_data"
    }
   ],
   "source": [
    "from mlxtend.plotting import plot_decision_regions\n",
    "plot_decision_regions(X_test_standard, np.array(y_test), clf=SVM)\n",
    "plt.show()"
   ]
  },
  {
   "cell_type": "markdown",
   "id": "a7c43280",
   "metadata": {},
   "source": [
    "### One Vs. One Plot"
   ]
  },
  {
   "cell_type": "markdown",
   "id": "3642df00",
   "metadata": {},
   "source": [
    "This method can also be considered as an approach to making binary classification algorithms capable of working as multiclass classification algorithms.it is similar to the One-Vs-Rest method because it also works based on splitting the data but the splitting behavior of this method is different from the One-Vs-Rest method. This method includes the split of data for each class where each class has every other class as its opponent. We can again use the iris data set to understand the data split behavior of this method. \n",
    "\n",
    "In the iris, we have the following classes:\n",
    "\n",
    "1. Setosa\n",
    "2. Versicolor \n",
    "3. Virginica\n",
    "\n",
    "Split iris data using the One-vs-One (OvO) methods will look like the following:\n",
    "\n",
    "1. Setosa vs Versicolor\n",
    "2. Setosa vs Virginica\n",
    "3. Versicolor vs Virginica\n",
    "4. Virginica vs Versicolor\n",
    "\n",
    "Here we can see using this data we have binary classification data that includes one class with every other class. We can find out the number of data split using the following formula \n",
    "\n",
    "Split of data = (number of classes X (number of classes – 1))/2"
   ]
  },
  {
   "cell_type": "code",
   "execution_count": 46,
   "id": "cfb4bf23",
   "metadata": {},
   "outputs": [],
   "source": [
    "rbf = SVC(kernel='rbf', gamma=1, C=1, decision_function_shape='ovo').fit(X_train_standard, y_train)"
   ]
  },
  {
   "cell_type": "code",
   "execution_count": 47,
   "id": "2c8de6a9",
   "metadata": {},
   "outputs": [
    {
     "data": {
      "image/png": "[encoded data removed]",
      "text/plain": [
       "<Figure size 432x288 with 1 Axes>"
      ]
     },
     "metadata": {
      "needs_background": "light"
     },
     "output_type": "display_data"
    }
   ],
   "source": [
    "from mlxtend.plotting import plot_decision_regions\n",
    "plot_decision_regions(X_test_standard, np.array(y_test), clf=rbf)\n",
    "plt.show()"
   ]
  },
  {
   "cell_type": "code",
   "execution_count": null,
   "id": "772933c1",
   "metadata": {},
   "outputs": [],
   "source": []
  }
 ],
 "metadata": {
  "kernelspec": {
   "display_name": "Python 3 (ipykernel)",
   "language": "python",
   "name": "python3"
  },
  "language_info": {
   "codemirror_mode": {
    "name": "ipython",
    "version": 3
   },
   "file_extension": ".py",
   "mimetype": "text/x-python",
   "name": "python",
   "nbconvert_exporter": "python",
   "pygments_lexer": "ipython3",
   "version": "3.9.7"
  }
 },
 "nbformat": 4,
 "nbformat_minor": 5
}
